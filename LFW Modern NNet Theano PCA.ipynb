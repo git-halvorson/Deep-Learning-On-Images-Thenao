{
 "cells": [
  {
   "cell_type": "code",
   "execution_count": 1,
   "metadata": {
    "collapsed": true
   },
   "outputs": [],
   "source": [
    "import theano\n",
    "from theano import tensor as T\n",
    "from theano.sandbox.rng_mrg import MRG_RandomStreams as RandomStreams\n",
    "import numpy as np\n",
    "import pandas as pd\n",
    "from load import mnist\n",
    "\n",
    "%matplotlib inline\n",
    "from seaborn import plt\n",
    "from sklearn import metrics"
   ]
  },
  {
   "cell_type": "code",
   "execution_count": 2,
   "metadata": {
    "collapsed": false
   },
   "outputs": [
    {
     "data": {
      "text/plain": [
       "((1293, 1850), (1293,))"
      ]
     },
     "execution_count": 2,
     "metadata": {},
     "output_type": "execute_result"
    }
   ],
   "source": [
    "from sklearn import datasets\n",
    "from sklearn.datasets import fetch_mldata\n",
    "lfw_people = datasets.fetch_lfw_people(min_faces_per_person=70, resize=0.4,\n",
    "    data_home='/Users/davidhalvorson/Google Drive/General Assembly/Data Science Class/github/DAT_SF_12/datasets')\n",
    "lfw_people.data.shape, lfw_people.target.shape"
   ]
  },
  {
   "cell_type": "code",
   "execution_count": 3,
   "metadata": {
    "collapsed": true
   },
   "outputs": [],
   "source": [
    "srng = RandomStreams()\n",
    "\n",
    "def floatX(X):\n",
    "    return np.asarray(X, dtype=theano.config.floatX)\n",
    "\n",
    "def init_weights(shape):\n",
    "    return theano.shared(floatX(np.random.randn(*shape) * 0.01))\n",
    "\n",
    "def rectify(X):\n",
    "    return T.maximum(X, 0.)\n",
    "\n",
    "def softmax(X):\n",
    "    e_x = T.exp(X - X.max(axis=1).dimshuffle(0, 'x'))\n",
    "    return e_x / e_x.sum(axis=1).dimshuffle(0, 'x')"
   ]
  },
  {
   "cell_type": "code",
   "execution_count": 4,
   "metadata": {
    "collapsed": true
   },
   "outputs": [],
   "source": [
    "def RMSprop(cost, params, lr=0.001, rho=0.9, epsilon=1e-6):\n",
    "    grads = T.grad(cost=cost, wrt=params)\n",
    "    updates = []\n",
    "    for p, g in zip(params, grads):\n",
    "        acc = theano.shared(p.get_value() * 0.)\n",
    "        acc_new = rho * acc + (1 - rho) * g ** 2\n",
    "        gradient_scaling = T.sqrt(acc_new + epsilon)\n",
    "        g = g / gradient_scaling\n",
    "        updates.append((acc, acc_new))\n",
    "        updates.append((p, p - lr * g))\n",
    "    return updates"
   ]
  },
  {
   "cell_type": "code",
   "execution_count": 5,
   "metadata": {
    "collapsed": true
   },
   "outputs": [],
   "source": [
    "def dropout(X, p=0.):\n",
    "    if p > 0:\n",
    "        retain_prob = 1 - p\n",
    "        X *= srng.binomial(X.shape, p=retain_prob, dtype=theano.config.floatX)\n",
    "        X /= retain_prob\n",
    "    return X"
   ]
  },
  {
   "cell_type": "code",
   "execution_count": 6,
   "metadata": {
    "collapsed": true
   },
   "outputs": [],
   "source": [
    "def model(X, w_h, w_h2, w_o, p_drop_input, p_drop_hidden):\n",
    "    X = dropout(X, p_drop_input)\n",
    "    h = rectify(T.dot(X, w_h))\n",
    "\n",
    "    h = dropout(h, p_drop_hidden)\n",
    "    h2 = rectify(T.dot(h, w_h2))\n",
    "\n",
    "    h2 = dropout(h2, p_drop_hidden)\n",
    "    py_x = softmax(T.dot(h2, w_o))\n",
    "    return h, h2, py_x"
   ]
  },
  {
   "cell_type": "code",
   "execution_count": 7,
   "metadata": {
    "collapsed": false
   },
   "outputs": [],
   "source": [
    "from sklearn.cross_validation import train_test_split\n",
    "#trX, teX, trY, teY = mnist(onehot=True)\n",
    "#from sklearn.cross_validation import train_test_split\n",
    "trX, teX, trY, teY = train_test_split(lfw_people.data, lfw_people.target, random_state=0)"
   ]
  },
  {
   "cell_type": "code",
   "execution_count": 8,
   "metadata": {
    "collapsed": false
   },
   "outputs": [
    {
     "name": "stdout",
     "output_type": "stream",
     "text": [
      "(324,) (969,)\n"
     ]
    }
   ],
   "source": [
    "print teY.shape, trY.shape"
   ]
  },
  {
   "cell_type": "markdown",
   "metadata": {},
   "source": [
    "Turn scalar into matrix for 7 possible outputs (Presidents)"
   ]
  },
  {
   "cell_type": "code",
   "execution_count": 9,
   "metadata": {
    "collapsed": false
   },
   "outputs": [
    {
     "data": {
      "text/plain": [
       "array([[ 0.,  0.,  0., ...,  0.,  0.,  1.],\n",
       "       [ 1.,  0.,  0., ...,  0.,  0.,  0.],\n",
       "       [ 0.,  0.,  0., ...,  0.,  0.,  1.],\n",
       "       ..., \n",
       "       [ 0.,  0.,  0., ...,  1.,  0.,  0.],\n",
       "       [ 0.,  0.,  0., ...,  0.,  0.,  0.],\n",
       "       [ 0.,  0.,  0., ...,  0.,  1.,  0.]])"
      ]
     },
     "execution_count": 9,
     "metadata": {},
     "output_type": "execute_result"
    }
   ],
   "source": [
    "teY = pd.core.reshape.get_dummies(teY)\n",
    "teY = teY.as_matrix()\n",
    "teY"
   ]
  },
  {
   "cell_type": "code",
   "execution_count": 10,
   "metadata": {
    "collapsed": false
   },
   "outputs": [
    {
     "data": {
      "text/plain": [
       "array([[ 0.,  0.,  0., ...,  0.,  0.,  0.],\n",
       "       [ 0.,  0.,  0., ...,  1.,  0.,  0.],\n",
       "       [ 0.,  0.,  0., ...,  0.,  0.,  0.],\n",
       "       ..., \n",
       "       [ 0.,  0.,  0., ...,  0.,  0.,  0.],\n",
       "       [ 0.,  0.,  0., ...,  0.,  0.,  0.],\n",
       "       [ 0.,  1.,  0., ...,  0.,  0.,  0.]])"
      ]
     },
     "execution_count": 10,
     "metadata": {},
     "output_type": "execute_result"
    }
   ],
   "source": [
    "trY = pd.core.reshape.get_dummies(trY)\n",
    "trY = trY.as_matrix()\n",
    "trY"
   ]
  },
  {
   "cell_type": "code",
   "execution_count": 11,
   "metadata": {
    "collapsed": false
   },
   "outputs": [
    {
     "name": "stdout",
     "output_type": "stream",
     "text": [
      "(969, 1850) (969, 7) (324, 1850) (324, 7)\n"
     ]
    }
   ],
   "source": [
    "print trX.shape, trY.shape, teX.shape, teY.shape"
   ]
  },
  {
   "cell_type": "markdown",
   "metadata": {},
   "source": [
    "## Preprocessing: Principal Component Analysis"
   ]
  },
  {
   "cell_type": "code",
   "execution_count": 12,
   "metadata": {
    "collapsed": false
   },
   "outputs": [
    {
     "data": {
      "text/plain": [
       "RandomizedPCA(copy=True, iterated_power=3, n_components=150,\n",
       "       random_state=None, whiten=False)"
      ]
     },
     "execution_count": 12,
     "metadata": {},
     "output_type": "execute_result"
    }
   ],
   "source": [
    "from sklearn import decomposition\n",
    "pca = decomposition.RandomizedPCA(n_components=150, whiten=False)\n",
    "pca.fit(trX)"
   ]
  },
  {
   "cell_type": "code",
   "execution_count": 13,
   "metadata": {
    "collapsed": false
   },
   "outputs": [
    {
     "data": {
      "text/plain": [
       "<matplotlib.image.AxesImage at 0x110e578d0>"
      ]
     },
     "execution_count": 13,
     "metadata": {},
     "output_type": "execute_result"
    },
    {
     "data": {
      "image/png": "[encoded data removed]",
      "text/plain": [
       "<matplotlib.figure.Figure at 0x10e036190>"
      ]
     },
     "metadata": {},
     "output_type": "display_data"
    }
   ],
   "source": [
    "plt.imshow(pca.mean_.reshape((50, 37)), cmap=plt.cm.bone)"
   ]
  },
  {
   "cell_type": "code",
   "execution_count": 14,
   "metadata": {
    "collapsed": false
   },
   "outputs": [
    {
     "name": "stdout",
     "output_type": "stream",
     "text": [
      "(150, 1850)\n"
     ]
    }
   ],
   "source": [
    "print pca.components_.shape"
   ]
  },
  {
   "cell_type": "code",
   "execution_count": 15,
   "metadata": {
    "collapsed": true
   },
   "outputs": [],
   "source": [
    "trX = pca.transform(trX)\n",
    "teX = pca.transform(teX)"
   ]
  },
  {
   "cell_type": "code",
   "execution_count": 16,
   "metadata": {
    "collapsed": false
   },
   "outputs": [
    {
     "name": "stdout",
     "output_type": "stream",
     "text": [
      "(969, 150) (969, 7)\n",
      "(324, 150) (324, 7)\n"
     ]
    }
   ],
   "source": [
    "print trX.shape, trY.shape\n",
    "print teX.shape, teY.shape"
   ]
  },
  {
   "cell_type": "markdown",
   "metadata": {},
   "source": [
    "## Thenao Moden NNet"
   ]
  },
  {
   "cell_type": "code",
   "execution_count": 17,
   "metadata": {
    "collapsed": true
   },
   "outputs": [],
   "source": [
    "X = T.fmatrix()\n",
    "Y = T.fmatrix()\n",
    "#Y = T.ivector()"
   ]
  },
  {
   "cell_type": "code",
   "execution_count": 18,
   "metadata": {
    "collapsed": true
   },
   "outputs": [],
   "source": [
    "w_h = init_weights((150, 75))\n",
    "w_h2 = init_weights((75, 75))\n",
    "w_o = init_weights((75, 7))"
   ]
  },
  {
   "cell_type": "code",
   "execution_count": 19,
   "metadata": {
    "collapsed": true
   },
   "outputs": [],
   "source": [
    "noise_h, noise_h2, noise_py_x = model(X, w_h, w_h2, w_o, 0.2, 0.5)\n",
    "h, h2, py_x = model(X, w_h, w_h2, w_o, 0., 0.)\n",
    "y_x = T.argmax(py_x, axis=1)"
   ]
  },
  {
   "cell_type": "code",
   "execution_count": 20,
   "metadata": {
    "collapsed": true
   },
   "outputs": [],
   "source": [
    "cost = T.mean(T.nnet.categorical_crossentropy(noise_py_x, Y))\n",
    "params = [w_h, w_h2, w_o]\n",
    "updates = RMSprop(cost, params, lr=0.001)"
   ]
  },
  {
   "cell_type": "code",
   "execution_count": 21,
   "metadata": {
    "collapsed": true
   },
   "outputs": [],
   "source": [
    "train = theano.function(inputs=[X, Y], outputs=cost, updates=updates, allow_input_downcast=True)\n",
    "predict = theano.function(inputs=[X], outputs=y_x, allow_input_downcast=True)"
   ]
  },
  {
   "cell_type": "code",
   "execution_count": 22,
   "metadata": {
    "collapsed": false
   },
   "outputs": [
    {
     "name": "stdout",
     "output_type": "stream",
     "text": [
      "0.496913580247\n",
      "0.570987654321\n",
      "0.638888888889\n",
      "0.700617283951\n",
      "0.75\n",
      "0.753086419753\n",
      "0.799382716049\n",
      "0.802469135802\n",
      "0.802469135802\n",
      "0.799382716049\n",
      "0.83024691358\n",
      "0.814814814815\n",
      "0.83024691358\n",
      "0.83024691358\n",
      "0.83950617284\n",
      "0.851851851852\n",
      "0.842592592593\n",
      "0.845679012346\n",
      "0.842592592593\n",
      "0.851851851852\n",
      "0.842592592593\n",
      "0.864197530864\n",
      "0.845679012346\n",
      "0.848765432099\n",
      "0.861111111111\n",
      "0.845679012346\n",
      "0.854938271605\n",
      "0.858024691358\n",
      "0.845679012346\n",
      "0.845679012346\n",
      "0.845679012346\n",
      "0.848765432099\n",
      "0.83024691358\n",
      "0.848765432099\n",
      "0.845679012346\n",
      "0.845679012346\n",
      "0.845679012346\n",
      "0.851851851852\n",
      "0.858024691358\n",
      "0.858024691358\n",
      "0.858024691358\n",
      "0.861111111111\n",
      "0.864197530864\n",
      "0.861111111111\n",
      "0.864197530864\n",
      "0.864197530864\n",
      "0.858024691358\n",
      "0.848765432099\n",
      "0.858024691358\n",
      "0.854938271605\n",
      "0.867283950617\n",
      "0.867283950617\n",
      "0.851851851852\n",
      "0.873456790123\n",
      "0.87962962963\n",
      "0.87037037037\n",
      "0.858024691358\n",
      "0.867283950617\n",
      "0.876543209877\n",
      "0.858024691358\n",
      "0.854938271605\n",
      "0.861111111111\n",
      "0.867283950617\n",
      "0.867283950617\n",
      "0.87037037037\n",
      "0.873456790123\n",
      "0.864197530864\n",
      "0.858024691358\n",
      "0.864197530864\n",
      "0.854938271605\n",
      "0.864197530864\n",
      "0.851851851852\n",
      "0.842592592593\n",
      "0.854938271605\n",
      "0.851851851852\n",
      "0.864197530864\n",
      "0.851851851852\n",
      "0.848765432099\n",
      "0.861111111111\n",
      "0.864197530864\n",
      "0.854938271605\n",
      "0.854938271605\n",
      "0.858024691358\n",
      "0.864197530864\n",
      "0.858024691358\n",
      "0.858024691358\n",
      "0.867283950617\n",
      "0.858024691358\n",
      "0.864197530864\n",
      "0.854938271605\n",
      "0.851851851852\n",
      "0.858024691358\n",
      "0.858024691358\n",
      "0.851851851852\n",
      "0.83950617284\n",
      "0.851851851852\n",
      "0.858024691358\n",
      "0.854938271605\n",
      "0.864197530864\n",
      "0.858024691358\n",
      "0.861111111111\n",
      "0.845679012346\n",
      "0.861111111111\n",
      "0.858024691358\n",
      "0.867283950617\n",
      "0.873456790123\n",
      "0.867283950617\n",
      "0.864197530864\n",
      "0.867283950617\n",
      "0.867283950617\n",
      "0.861111111111\n",
      "0.858024691358\n",
      "0.851851851852\n",
      "0.858024691358\n",
      "0.858024691358\n",
      "0.858024691358\n",
      "0.858024691358\n",
      "0.851851851852\n",
      "0.867283950617\n",
      "0.858024691358\n",
      "0.861111111111\n",
      "0.848765432099\n",
      "0.851851851852\n",
      "0.858024691358\n",
      "0.848765432099\n",
      "0.848765432099\n",
      "0.858024691358\n",
      "0.864197530864\n",
      "0.864197530864\n",
      "0.87037037037\n",
      "0.867283950617\n",
      "0.867283950617\n",
      "0.864197530864\n",
      "0.861111111111\n",
      "0.864197530864\n",
      "0.861111111111\n",
      "0.867283950617\n",
      "0.867283950617\n",
      "0.848765432099\n",
      "0.851851851852\n",
      "0.848765432099\n",
      "0.845679012346\n",
      "0.842592592593\n",
      "0.848765432099\n",
      "0.845679012346\n",
      "0.851851851852\n",
      "0.858024691358\n",
      "0.854938271605\n",
      "0.861111111111\n",
      "0.854938271605\n",
      "0.851851851852\n",
      "0.867283950617\n",
      "0.867283950617\n",
      "0.858024691358\n",
      "0.867283950617\n",
      "0.861111111111\n",
      "0.851851851852\n",
      "0.861111111111\n",
      "0.87037037037\n",
      "0.858024691358\n",
      "0.854938271605\n",
      "0.861111111111\n",
      "0.851851851852\n",
      "0.845679012346\n",
      "0.854938271605\n",
      "0.861111111111\n",
      "0.867283950617\n",
      "0.864197530864\n",
      "0.864197530864\n",
      "0.867283950617\n",
      "0.87037037037\n",
      "0.854938271605\n",
      "0.864197530864\n",
      "0.851851851852\n",
      "0.861111111111\n",
      "0.864197530864\n",
      "0.87037037037\n",
      "0.861111111111\n",
      "0.864197530864\n",
      "0.854938271605\n",
      "0.842592592593\n",
      "0.851851851852\n",
      "0.854938271605\n",
      "0.851851851852\n",
      "0.851851851852\n",
      "0.833333333333\n",
      "0.867283950617\n",
      "0.864197530864\n",
      "0.848765432099\n",
      "0.842592592593\n",
      "0.858024691358\n",
      "0.845679012346\n",
      "0.87037037037\n",
      "0.851851851852\n",
      "0.858024691358\n",
      "0.858024691358\n",
      "0.861111111111\n",
      "0.836419753086\n",
      "0.864197530864\n",
      "0.851851851852\n",
      "0.864197530864\n",
      "0.864197530864\n",
      "0.867283950617\n",
      "0.861111111111\n",
      "0.864197530864\n",
      "0.87037037037\n",
      "0.873456790123\n",
      "0.873456790123\n",
      "0.87037037037\n",
      "0.873456790123\n",
      "0.861111111111\n",
      "0.861111111111\n",
      "0.867283950617\n",
      "0.861111111111\n",
      "0.87037037037\n",
      "0.861111111111\n",
      "0.87037037037\n",
      "0.87037037037\n",
      "0.876543209877\n",
      "0.87037037037\n",
      "0.867283950617\n",
      "0.867283950617\n",
      "0.867283950617\n",
      "0.858024691358\n",
      "0.858024691358\n",
      "0.873456790123\n",
      "0.864197530864\n",
      "0.854938271605\n",
      "0.848765432099\n",
      "0.867283950617\n",
      "0.848765432099\n",
      "0.851851851852\n",
      "0.858024691358\n",
      "0.858024691358\n",
      "0.854938271605\n",
      "0.854938271605\n",
      "0.864197530864\n",
      "0.861111111111\n",
      "0.851851851852\n",
      "0.854938271605\n",
      "0.858024691358\n",
      "0.858024691358\n",
      "0.864197530864\n",
      "0.873456790123\n",
      "0.864197530864\n",
      "0.851851851852\n",
      "0.858024691358\n",
      "0.845679012346\n",
      "0.848765432099\n",
      "0.851851851852\n"
     ]
    }
   ],
   "source": [
    "for i in range(250):\n",
    "#for i in range(10):    \n",
    "    for start, end in zip(range(0, len(trX), 128), range(128, len(trX), 128)):\n",
    "        cost = train(trX[start:end], trY[start:end])\n",
    "## Begin Debug        \n",
    "#        print cost\n",
    "#        print start, end\n",
    "#        print trY\n",
    "#        print teY.shape\n",
    "#        print trX.shape\n",
    "#       print np.argmax(teY, axis=1)\n",
    "#        print np.amax(teY)\n",
    "## End Debug    \n",
    "\n",
    "    print np.mean(np.argmax(teY, axis=1) == predict(teX))"
   ]
  },
  {
   "cell_type": "markdown",
   "metadata": {},
   "source": [
    "## Try to get the Confusion Matrix"
   ]
  },
  {
   "cell_type": "code",
   "execution_count": 168,
   "metadata": {
    "collapsed": false
   },
   "outputs": [
    {
     "ename": "ValueError",
     "evalue": "multilabel-indicator is not supported",
     "output_type": "error",
     "traceback": [
      "\u001b[0;31m---------------------------------------------------------------------------\u001b[0m",
      "\u001b[0;31mValueError\u001b[0m                                Traceback (most recent call last)",
      "\u001b[0;32m<ipython-input-168-420cc9c9211d>\u001b[0m in \u001b[0;36m<module>\u001b[0;34m()\u001b[0m\n\u001b[1;32m      2\u001b[0m \u001b[0my_pred\u001b[0m \u001b[0;34m=\u001b[0m \u001b[0mpd\u001b[0m\u001b[0;34m.\u001b[0m\u001b[0mcore\u001b[0m\u001b[0;34m.\u001b[0m\u001b[0mreshape\u001b[0m\u001b[0;34m.\u001b[0m\u001b[0mget_dummies\u001b[0m\u001b[0;34m(\u001b[0m\u001b[0my_pred\u001b[0m\u001b[0;34m)\u001b[0m\u001b[0;34m\u001b[0m\u001b[0m\n\u001b[1;32m      3\u001b[0m \u001b[0my_pred\u001b[0m \u001b[0;34m=\u001b[0m \u001b[0my_pred\u001b[0m\u001b[0;34m.\u001b[0m\u001b[0mas_matrix\u001b[0m\u001b[0;34m(\u001b[0m\u001b[0;34m)\u001b[0m\u001b[0;34m\u001b[0m\u001b[0m\n\u001b[0;32m----> 4\u001b[0;31m \u001b[0;32mprint\u001b[0m\u001b[0;34m(\u001b[0m\u001b[0mmetrics\u001b[0m\u001b[0;34m.\u001b[0m\u001b[0mconfusion_matrix\u001b[0m\u001b[0;34m(\u001b[0m\u001b[0mteY\u001b[0m\u001b[0;34m,\u001b[0m \u001b[0my_pred\u001b[0m\u001b[0;34m)\u001b[0m\u001b[0;34m)\u001b[0m\u001b[0;34m\u001b[0m\u001b[0m\n\u001b[0m",
      "\u001b[0;32m/Users/davidhalvorson/anaconda/lib/python2.7/site-packages/sklearn/metrics/metrics.pyc\u001b[0m in \u001b[0;36mconfusion_matrix\u001b[0;34m(y_true, y_pred, labels)\u001b[0m\n\u001b[1;32m    959\u001b[0m     \u001b[0my_type\u001b[0m\u001b[0;34m,\u001b[0m \u001b[0my_true\u001b[0m\u001b[0;34m,\u001b[0m \u001b[0my_pred\u001b[0m \u001b[0;34m=\u001b[0m \u001b[0m_check_clf_targets\u001b[0m\u001b[0;34m(\u001b[0m\u001b[0my_true\u001b[0m\u001b[0;34m,\u001b[0m \u001b[0my_pred\u001b[0m\u001b[0;34m)\u001b[0m\u001b[0;34m\u001b[0m\u001b[0m\n\u001b[1;32m    960\u001b[0m     \u001b[0;32mif\u001b[0m \u001b[0my_type\u001b[0m \u001b[0;32mnot\u001b[0m \u001b[0;32min\u001b[0m \u001b[0;34m(\u001b[0m\u001b[0;34m\"binary\"\u001b[0m\u001b[0;34m,\u001b[0m \u001b[0;34m\"multiclass\"\u001b[0m\u001b[0;34m)\u001b[0m\u001b[0;34m:\u001b[0m\u001b[0;34m\u001b[0m\u001b[0m\n\u001b[0;32m--> 961\u001b[0;31m         \u001b[0;32mraise\u001b[0m \u001b[0mValueError\u001b[0m\u001b[0;34m(\u001b[0m\u001b[0;34m\"%s is not supported\"\u001b[0m \u001b[0;34m%\u001b[0m \u001b[0my_type\u001b[0m\u001b[0;34m)\u001b[0m\u001b[0;34m\u001b[0m\u001b[0m\n\u001b[0m\u001b[1;32m    962\u001b[0m \u001b[0;34m\u001b[0m\u001b[0m\n\u001b[1;32m    963\u001b[0m     \u001b[0;32mif\u001b[0m \u001b[0mlabels\u001b[0m \u001b[0;32mis\u001b[0m \u001b[0mNone\u001b[0m\u001b[0;34m:\u001b[0m\u001b[0;34m\u001b[0m\u001b[0m\n",
      "\u001b[0;31mValueError\u001b[0m: multilabel-indicator is not supported"
     ]
    }
   ],
   "source": [
    "y_pred = predict(teX)\n",
    "y_pred = pd.core.reshape.get_dummies(y_pred)\n",
    "y_pred = y_pred.as_matrix()\n",
    "print(metrics.confusion_matrix(teY, y_pred))"
   ]
  },
  {
   "cell_type": "markdown",
   "metadata": {
    "collapsed": true
   },
   "source": [
    "## Debug"
   ]
  },
  {
   "cell_type": "code",
   "execution_count": 169,
   "metadata": {
    "collapsed": false
   },
   "outputs": [
    {
     "name": "stdout",
     "output_type": "stream",
     "text": [
      "<TensorType(float32, matrix)>\n"
     ]
    }
   ],
   "source": [
    "print X"
   ]
  },
  {
   "cell_type": "code",
   "execution_count": 170,
   "metadata": {
    "collapsed": false
   },
   "outputs": [
    {
     "name": "stdout",
     "output_type": "stream",
     "text": [
      "<TensorType(float32, matrix)> [@A]\n"
     ]
    }
   ],
   "source": [
    "theano.printing.debugprint(X)"
   ]
  },
  {
   "cell_type": "code",
   "execution_count": 171,
   "metadata": {
    "collapsed": false
   },
   "outputs": [
    {
     "name": "stdout",
     "output_type": "stream",
     "text": [
      "<TensorType(float32, matrix)>\n"
     ]
    }
   ],
   "source": [
    "print Y"
   ]
  },
  {
   "cell_type": "code",
   "execution_count": 172,
   "metadata": {
    "collapsed": false
   },
   "outputs": [
    {
     "data": {
      "text/plain": [
       "((1293, 1850), (1293,))"
      ]
     },
     "execution_count": 172,
     "metadata": {},
     "output_type": "execute_result"
    }
   ],
   "source": [
    "lfw_people.data.shape, lfw_people.target.shape"
   ]
  },
  {
   "cell_type": "code",
   "execution_count": 173,
   "metadata": {
    "collapsed": false
   },
   "outputs": [
    {
     "name": "stdout",
     "output_type": "stream",
     "text": [
      "(969, 200) (969, 7) (324, 200) (324, 7)\n"
     ]
    }
   ],
   "source": [
    "print trX.shape, trY.shape, teX.shape, teY.shape"
   ]
  },
  {
   "cell_type": "code",
   "execution_count": 174,
   "metadata": {
    "collapsed": false
   },
   "outputs": [
    {
     "data": {
      "text/html": [
       "<div style=\"max-height:1000px;max-width:1500px;overflow:auto;\">\n",
       "<table border=\"1\" class=\"dataframe\">\n",
       "  <thead>\n",
       "    <tr style=\"text-align: right;\">\n",
       "      <th></th>\n",
       "      <th>0</th>\n",
       "      <th>1</th>\n",
       "      <th>2</th>\n",
       "      <th>3</th>\n",
       "      <th>4</th>\n",
       "      <th>5</th>\n",
       "      <th>6</th>\n",
       "      <th>7</th>\n",
       "      <th>8</th>\n",
       "      <th>9</th>\n",
       "      <th>...</th>\n",
       "      <th>190</th>\n",
       "      <th>191</th>\n",
       "      <th>192</th>\n",
       "      <th>193</th>\n",
       "      <th>194</th>\n",
       "      <th>195</th>\n",
       "      <th>196</th>\n",
       "      <th>197</th>\n",
       "      <th>198</th>\n",
       "      <th>199</th>\n",
       "    </tr>\n",
       "  </thead>\n",
       "  <tbody>\n",
       "    <tr>\n",
       "      <th>0</th>\n",
       "      <td> 144.960558</td>\n",
       "      <td>-373.946129</td>\n",
       "      <td> 301.443576</td>\n",
       "      <td> 226.757059</td>\n",
       "      <td> 325.169034</td>\n",
       "      <td>  79.049597</td>\n",
       "      <td> 170.735562</td>\n",
       "      <td>-124.676689</td>\n",
       "      <td>-433.331052</td>\n",
       "      <td> 184.097258</td>\n",
       "      <td>...</td>\n",
       "      <td> 18.817346</td>\n",
       "      <td>  4.433210</td>\n",
       "      <td>-27.319618</td>\n",
       "      <td> 12.448226</td>\n",
       "      <td> 7.919944</td>\n",
       "      <td>-11.971517</td>\n",
       "      <td> 11.724554</td>\n",
       "      <td>-40.333784</td>\n",
       "      <td>-34.917987</td>\n",
       "      <td>  1.309194</td>\n",
       "    </tr>\n",
       "    <tr>\n",
       "      <th>1</th>\n",
       "      <td>-747.202899</td>\n",
       "      <td>-234.613667</td>\n",
       "      <td> -51.397234</td>\n",
       "      <td> 781.334350</td>\n",
       "      <td> 202.252594</td>\n",
       "      <td> -54.643920</td>\n",
       "      <td>-115.726769</td>\n",
       "      <td>  56.081051</td>\n",
       "      <td>  44.594086</td>\n",
       "      <td>-145.381856</td>\n",
       "      <td>...</td>\n",
       "      <td> 17.395235</td>\n",
       "      <td> 42.070773</td>\n",
       "      <td> -0.950765</td>\n",
       "      <td> 24.042637</td>\n",
       "      <td> 6.083136</td>\n",
       "      <td> 11.745354</td>\n",
       "      <td> 13.897716</td>\n",
       "      <td>-49.429686</td>\n",
       "      <td> 21.331243</td>\n",
       "      <td>-62.351886</td>\n",
       "    </tr>\n",
       "    <tr>\n",
       "      <th>2</th>\n",
       "      <td>-895.177139</td>\n",
       "      <td>-718.608619</td>\n",
       "      <td>-988.256426</td>\n",
       "      <td> 478.132281</td>\n",
       "      <td>-202.337362</td>\n",
       "      <td> 257.863424</td>\n",
       "      <td> -20.624412</td>\n",
       "      <td>-296.334566</td>\n",
       "      <td> 379.959103</td>\n",
       "      <td> 115.564823</td>\n",
       "      <td>...</td>\n",
       "      <td> 19.481635</td>\n",
       "      <td>-11.934357</td>\n",
       "      <td> 87.924682</td>\n",
       "      <td> 37.849622</td>\n",
       "      <td> 4.111629</td>\n",
       "      <td> 45.824417</td>\n",
       "      <td>-40.160788</td>\n",
       "      <td> -8.946748</td>\n",
       "      <td>-28.594870</td>\n",
       "      <td> 23.518849</td>\n",
       "    </tr>\n",
       "  </tbody>\n",
       "</table>\n",
       "<p>3 rows × 200 columns</p>\n",
       "</div>"
      ],
      "text/plain": [
       "          0           1           2           3           4           5    \\\n",
       "0  144.960558 -373.946129  301.443576  226.757059  325.169034   79.049597   \n",
       "1 -747.202899 -234.613667  -51.397234  781.334350  202.252594  -54.643920   \n",
       "2 -895.177139 -718.608619 -988.256426  478.132281 -202.337362  257.863424   \n",
       "\n",
       "          6           7           8           9      ...            190  \\\n",
       "0  170.735562 -124.676689 -433.331052  184.097258    ...      18.817346   \n",
       "1 -115.726769   56.081051   44.594086 -145.381856    ...      17.395235   \n",
       "2  -20.624412 -296.334566  379.959103  115.564823    ...      19.481635   \n",
       "\n",
       "         191        192        193       194        195        196        197  \\\n",
       "0   4.433210 -27.319618  12.448226  7.919944 -11.971517  11.724554 -40.333784   \n",
       "1  42.070773  -0.950765  24.042637  6.083136  11.745354  13.897716 -49.429686   \n",
       "2 -11.934357  87.924682  37.849622  4.111629  45.824417 -40.160788  -8.946748   \n",
       "\n",
       "         198        199  \n",
       "0 -34.917987   1.309194  \n",
       "1  21.331243 -62.351886  \n",
       "2 -28.594870  23.518849  \n",
       "\n",
       "[3 rows x 200 columns]"
      ]
     },
     "execution_count": 174,
     "metadata": {},
     "output_type": "execute_result"
    }
   ],
   "source": [
    "pd.DataFrame(trX).head(3)"
   ]
  },
  {
   "cell_type": "code",
   "execution_count": 175,
   "metadata": {
    "collapsed": false
   },
   "outputs": [
    {
     "data": {
      "text/html": [
       "<div style=\"max-height:1000px;max-width:1500px;overflow:auto;\">\n",
       "<table border=\"1\" class=\"dataframe\">\n",
       "  <thead>\n",
       "    <tr style=\"text-align: right;\">\n",
       "      <th></th>\n",
       "      <th>0</th>\n",
       "      <th>1</th>\n",
       "      <th>2</th>\n",
       "      <th>3</th>\n",
       "      <th>4</th>\n",
       "      <th>5</th>\n",
       "      <th>6</th>\n",
       "      <th>7</th>\n",
       "      <th>8</th>\n",
       "      <th>9</th>\n",
       "      <th>...</th>\n",
       "      <th>190</th>\n",
       "      <th>191</th>\n",
       "      <th>192</th>\n",
       "      <th>193</th>\n",
       "      <th>194</th>\n",
       "      <th>195</th>\n",
       "      <th>196</th>\n",
       "      <th>197</th>\n",
       "      <th>198</th>\n",
       "      <th>199</th>\n",
       "    </tr>\n",
       "  </thead>\n",
       "  <tbody>\n",
       "    <tr>\n",
       "      <th>0</th>\n",
       "      <td>-109.343883</td>\n",
       "      <td> 499.853306</td>\n",
       "      <td>  859.759409</td>\n",
       "      <td>-226.786276</td>\n",
       "      <td> 143.873273</td>\n",
       "      <td>-210.368854</td>\n",
       "      <td> -87.593320</td>\n",
       "      <td> 270.469639</td>\n",
       "      <td>-313.662358</td>\n",
       "      <td>-209.479842</td>\n",
       "      <td>...</td>\n",
       "      <td>-29.092487</td>\n",
       "      <td> 52.767716</td>\n",
       "      <td> 24.645740</td>\n",
       "      <td>-16.114965</td>\n",
       "      <td>-20.882521</td>\n",
       "      <td>-76.315040</td>\n",
       "      <td> 12.920140</td>\n",
       "      <td> -9.365666</td>\n",
       "      <td>-20.153413</td>\n",
       "      <td> 41.249854</td>\n",
       "    </tr>\n",
       "    <tr>\n",
       "      <th>1</th>\n",
       "      <td> 688.196950</td>\n",
       "      <td> 632.933058</td>\n",
       "      <td> -460.493425</td>\n",
       "      <td>-226.411358</td>\n",
       "      <td> 197.614076</td>\n",
       "      <td> 265.594191</td>\n",
       "      <td> -88.785714</td>\n",
       "      <td>-117.163275</td>\n",
       "      <td>-231.429060</td>\n",
       "      <td>-282.444757</td>\n",
       "      <td>...</td>\n",
       "      <td> -3.784814</td>\n",
       "      <td> -0.532819</td>\n",
       "      <td>-10.443354</td>\n",
       "      <td>  2.829836</td>\n",
       "      <td>-33.496714</td>\n",
       "      <td> -9.978662</td>\n",
       "      <td>-13.065058</td>\n",
       "      <td>-22.147353</td>\n",
       "      <td> 22.105206</td>\n",
       "      <td> 29.863051</td>\n",
       "    </tr>\n",
       "    <tr>\n",
       "      <th>2</th>\n",
       "      <td> 751.797209</td>\n",
       "      <td> 504.306533</td>\n",
       "      <td> 1112.223347</td>\n",
       "      <td>-645.618291</td>\n",
       "      <td>-232.348157</td>\n",
       "      <td> 294.743418</td>\n",
       "      <td> 454.116022</td>\n",
       "      <td> -30.189229</td>\n",
       "      <td> 748.704719</td>\n",
       "      <td> 265.382356</td>\n",
       "      <td>...</td>\n",
       "      <td> -4.590717</td>\n",
       "      <td> -4.156887</td>\n",
       "      <td>-62.653759</td>\n",
       "      <td> -3.441375</td>\n",
       "      <td>  2.729811</td>\n",
       "      <td> 28.567276</td>\n",
       "      <td>  9.179437</td>\n",
       "      <td>-25.065164</td>\n",
       "      <td> 73.532593</td>\n",
       "      <td> 32.259999</td>\n",
       "    </tr>\n",
       "  </tbody>\n",
       "</table>\n",
       "<p>3 rows × 200 columns</p>\n",
       "</div>"
      ],
      "text/plain": [
       "          0           1            2           3           4           5    \\\n",
       "0 -109.343883  499.853306   859.759409 -226.786276  143.873273 -210.368854   \n",
       "1  688.196950  632.933058  -460.493425 -226.411358  197.614076  265.594191   \n",
       "2  751.797209  504.306533  1112.223347 -645.618291 -232.348157  294.743418   \n",
       "\n",
       "          6           7           8           9      ...            190  \\\n",
       "0  -87.593320  270.469639 -313.662358 -209.479842    ...     -29.092487   \n",
       "1  -88.785714 -117.163275 -231.429060 -282.444757    ...      -3.784814   \n",
       "2  454.116022  -30.189229  748.704719  265.382356    ...      -4.590717   \n",
       "\n",
       "         191        192        193        194        195        196  \\\n",
       "0  52.767716  24.645740 -16.114965 -20.882521 -76.315040  12.920140   \n",
       "1  -0.532819 -10.443354   2.829836 -33.496714  -9.978662 -13.065058   \n",
       "2  -4.156887 -62.653759  -3.441375   2.729811  28.567276   9.179437   \n",
       "\n",
       "         197        198        199  \n",
       "0  -9.365666 -20.153413  41.249854  \n",
       "1 -22.147353  22.105206  29.863051  \n",
       "2 -25.065164  73.532593  32.259999  \n",
       "\n",
       "[3 rows x 200 columns]"
      ]
     },
     "execution_count": 175,
     "metadata": {},
     "output_type": "execute_result"
    }
   ],
   "source": [
    "pd.DataFrame(teX).head(3)"
   ]
  },
  {
   "cell_type": "code",
   "execution_count": 176,
   "metadata": {
    "collapsed": false
   },
   "outputs": [],
   "source": [
    "#trY = pd.core.reshape.get_dummies(trY)\n",
    "#trY.head(3)"
   ]
  },
  {
   "cell_type": "code",
   "execution_count": 177,
   "metadata": {
    "collapsed": false
   },
   "outputs": [],
   "source": [
    "\n",
    "#teY = pd.core.reshape.get_dummies(teY)\n",
    "#teY.head(3)"
   ]
  },
  {
   "cell_type": "code",
   "execution_count": 178,
   "metadata": {
    "collapsed": false
   },
   "outputs": [
    {
     "data": {
      "text/plain": [
       "[(0, 128), (969, 256), (128, 384)]"
      ]
     },
     "execution_count": 178,
     "metadata": {},
     "output_type": "execute_result"
    }
   ],
   "source": [
    "zip((0, len(trX), 128), range(128, len(trX), 128))"
   ]
  },
  {
   "cell_type": "code",
   "execution_count": 182,
   "metadata": {
    "collapsed": false
   },
   "outputs": [
    {
     "name": "stdout",
     "output_type": "stream",
     "text": [
      " (324, 200) (324, 7)\n"
     ]
    }
   ],
   "source": [
    "print teX.shape, teY.shape"
   ]
  },
  {
   "cell_type": "code",
   "execution_count": 183,
   "metadata": {
    "collapsed": false
   },
   "outputs": [
    {
     "name": "stdout",
     "output_type": "stream",
     "text": [
      "(969, 200) (969, 7)\n"
     ]
    }
   ],
   "source": [
    "print trX.shape, trY.shape"
   ]
  },
  {
   "cell_type": "code",
   "execution_count": 188,
   "metadata": {
    "collapsed": false
   },
   "outputs": [
    {
     "data": {
      "text/plain": [
       "array([[ 0.,  0.,  0., ...,  0.,  0.,  1.],\n",
       "       [ 1.,  0.,  0., ...,  0.,  0.,  0.],\n",
       "       [ 0.,  0.,  0., ...,  0.,  0.,  1.],\n",
       "       ..., \n",
       "       [ 0.,  0.,  0., ...,  1.,  0.,  0.],\n",
       "       [ 0.,  0.,  0., ...,  0.,  0.,  0.],\n",
       "       [ 0.,  0.,  0., ...,  0.,  1.,  0.]])"
      ]
     },
     "execution_count": 188,
     "metadata": {},
     "output_type": "execute_result"
    }
   ],
   "source": [
    "#y_pred = predict(teX)\n",
    "#y_pred = pd.core.reshape.get_dummies(y_pred)\n",
    "#y_pred = y_pred.as_matrix()\n",
    "y_pred"
   ]
  },
  {
   "cell_type": "markdown",
   "metadata": {},
   "source": [
    "Theano's \"predict\" output"
   ]
  },
  {
   "cell_type": "code",
   "execution_count": 189,
   "metadata": {
    "collapsed": false
   },
   "outputs": [
    {
     "data": {
      "text/plain": [
       "array([3, 4, 3, 2, 3, 3, 2, 1, 1, 3, 1, 3, 3, 4, 0, 1, 1, 4, 4, 1, 4, 1, 2,\n",
       "       3, 0, 3, 6, 2, 3, 4, 1, 2, 6, 1, 6, 3, 3, 3, 3, 5, 2, 3, 3, 5, 1, 3,\n",
       "       1, 3, 3, 1, 3, 1, 5, 3, 3, 3, 3, 1, 1, 3, 3, 0, 1, 3, 3, 4, 3, 3, 1,\n",
       "       3, 3, 4, 3, 2, 3, 4, 4, 1, 5, 4, 2, 1, 2, 3, 1, 6, 2, 0, 2, 3, 6, 3,\n",
       "       3, 6, 4, 1, 3, 5, 1, 3, 3, 0, 1, 6, 3, 3, 1, 3, 1, 2, 1, 3, 6, 1, 6,\n",
       "       6, 4, 2, 6, 1, 1, 3, 3, 3, 3, 3, 3, 5, 4, 6, 1, 3, 4, 3, 3, 4, 3, 3,\n",
       "       6, 3, 5, 6, 0, 3, 3, 4, 3, 0, 2, 6, 3, 3, 1, 3, 1, 5, 6, 3, 0, 1, 3,\n",
       "       3, 0, 1, 1, 3, 6, 6, 6, 3, 5, 5, 4, 0, 4, 3, 6, 3, 3, 3, 5, 3, 6, 3,\n",
       "       3, 2, 3, 3, 1, 3, 3, 3, 0, 6, 3, 3, 3, 0, 6, 6, 4, 0, 3, 3, 4, 3, 3,\n",
       "       3, 3, 3, 3, 3, 1, 2, 6, 1, 3, 2, 1, 1, 3, 1, 0, 3, 3, 1, 4, 3, 3, 3,\n",
       "       4, 1, 5, 4, 6, 3, 1, 2, 3, 1, 3, 1, 6, 6, 3, 3, 1, 4, 2, 1, 6, 2, 0,\n",
       "       1, 4, 1, 1, 3, 6, 3, 4, 1, 3, 3, 3, 3, 3, 3, 3, 6, 1, 1, 3, 5, 1, 3,\n",
       "       2, 3, 4, 3, 4, 5, 6, 3, 3, 3, 5, 3, 3, 3, 3, 1, 1, 4, 1, 3, 6, 2, 3,\n",
       "       3, 6, 3, 3, 5, 3, 5, 0, 3, 5, 3, 3, 6, 6, 3, 3, 6, 2, 3, 6, 2, 3, 3,\n",
       "       3, 3, 3, 3, 3, 5, 3, 6, 3, 6, 3, 0, 4, 6, 3, 5, 3, 6, 3, 6, 1, 4, 1,\n",
       "       4, 2, 1, 3, 3, 3, 3, 4, 5, 1, 6, 2, 1, 1, 1, 3, 6, 3, 3, 5, 3, 1, 3,\n",
       "       3, 3, 3, 3, 6, 3, 6, 1, 3, 2, 6, 6, 3, 3, 1, 1, 6, 6, 3, 0, 1, 1, 1,\n",
       "       5, 1, 3, 3, 3, 1, 1, 6, 6, 6, 1, 6, 2, 6, 1, 1, 1, 2, 4, 1, 3, 3, 3,\n",
       "       5, 3, 4, 0, 3, 6, 0, 2, 1, 6, 3, 5, 4, 3, 6, 6, 2, 3, 3, 3, 3, 3, 3,\n",
       "       6, 3, 1, 2, 3, 3, 6, 1, 3, 2, 2, 2, 3, 5, 1, 0, 1, 1, 4, 3, 1, 1, 3,\n",
       "       6, 4, 1, 3, 1, 3, 3, 1, 3, 3, 3, 2, 2, 3, 1, 6, 3, 1, 6, 3, 3, 3, 0,\n",
       "       3, 6, 1, 4, 6, 3, 1, 4, 6, 5, 6, 4, 1, 3, 5, 3, 1, 3, 2, 1, 3, 3, 1,\n",
       "       3, 3, 3, 4, 1, 3, 3, 6, 0, 6, 2, 3, 2, 3, 2, 2, 5, 3, 3, 6, 3, 6, 3,\n",
       "       3, 1, 3, 3, 2, 1, 1, 3, 1, 3, 3, 3, 1, 4, 3, 3, 3, 1, 3, 3, 0, 3, 3,\n",
       "       1, 3, 3, 2, 1, 3, 3, 4, 2, 3, 4, 4, 6, 3, 1, 1, 3, 2, 3, 3, 3, 0, 6,\n",
       "       3, 3, 6, 3, 4, 3, 0, 3, 3, 1, 6, 1, 2, 3, 3, 3, 3, 1, 2, 4, 3, 3, 3,\n",
       "       3, 4, 3, 3, 0, 1, 6, 6, 4, 2, 3, 3, 2, 3, 2, 0, 0, 1, 0, 6, 1, 3, 1,\n",
       "       1, 2, 3, 2, 3, 4, 4, 5, 3, 5, 3, 2, 3, 3, 5, 0, 5, 3, 3, 0, 0, 3, 2,\n",
       "       3, 3, 5, 6, 3, 2, 0, 3, 6, 0, 1, 3, 6, 2, 3, 4, 4, 3, 0, 3, 6, 2, 3,\n",
       "       3, 1, 0, 3, 1, 5, 1, 6, 1, 3, 6, 6, 3, 0, 3, 3, 6, 3, 3, 3, 3, 1, 3,\n",
       "       1, 4, 6, 5, 1, 1, 3, 3, 3, 3, 1, 3, 1, 5, 1, 6, 3, 3, 3, 2, 5, 6, 2,\n",
       "       3, 1, 1, 3, 4, 0, 6, 6, 3, 1, 1, 4, 3, 3, 0, 6, 1, 2, 0, 3, 3, 5, 3,\n",
       "       4, 4, 2, 3, 1, 3, 3, 4, 4, 1, 5, 3, 5, 2, 3, 3, 1, 1, 3, 2, 1, 4, 3,\n",
       "       1, 3, 3, 2, 3, 0, 3, 3, 2, 3, 1, 2, 1, 1, 1, 1, 3, 5, 4, 1, 2, 1, 1,\n",
       "       3, 3, 4, 2, 1, 3, 4, 1, 3, 4, 4, 1, 3, 6, 6, 1, 3, 3, 0, 6, 3, 5, 1,\n",
       "       1, 3, 1, 1, 6, 2, 1, 4, 2, 2, 3, 0, 0, 6, 4, 3, 1, 3, 3, 2, 4, 3, 5,\n",
       "       1, 6, 6, 3, 5, 6, 3, 3, 4, 6, 1, 4, 0, 6, 3, 4, 3, 1, 4, 0, 1, 0, 5,\n",
       "       3, 3, 5, 3, 0, 3, 5, 4, 3, 3, 3, 6, 1, 1, 3, 6, 2, 6, 5, 2, 3, 6, 2,\n",
       "       1, 6, 4, 0, 2, 0, 2, 6, 3, 3, 3, 3, 3, 3, 3, 3, 3, 4, 3, 3, 6, 6, 3,\n",
       "       4, 0, 3, 2, 3, 3, 6, 2, 1, 3, 3, 3, 3, 3, 3, 0, 0, 3, 3, 3, 4, 3, 3,\n",
       "       0, 1, 3, 3, 6, 0, 6, 1, 0, 1, 3, 3, 3, 4, 2, 3, 4, 5, 2, 1, 0, 3, 3,\n",
       "       1, 6, 0, 3, 3, 3, 0, 2, 5, 1, 1, 3, 2, 3, 5, 3, 3, 1, 5, 3, 3, 1, 3,\n",
       "       3, 3, 1])"
      ]
     },
     "execution_count": 189,
     "metadata": {},
     "output_type": "execute_result"
    }
   ],
   "source": [
    "predict(trX)"
   ]
  },
  {
   "cell_type": "code",
   "execution_count": 190,
   "metadata": {
    "collapsed": false
   },
   "outputs": [
    {
     "data": {
      "text/plain": [
       "array([[ 0.,  0.,  0., ...,  0.,  0.,  1.],\n",
       "       [ 1.,  0.,  0., ...,  0.,  0.,  0.],\n",
       "       [ 0.,  0.,  0., ...,  0.,  0.,  1.],\n",
       "       ..., \n",
       "       [ 0.,  0.,  0., ...,  1.,  0.,  0.],\n",
       "       [ 0.,  0.,  0., ...,  0.,  0.,  0.],\n",
       "       [ 0.,  0.,  0., ...,  0.,  1.,  0.]])"
      ]
     },
     "execution_count": 190,
     "metadata": {},
     "output_type": "execute_result"
    }
   ],
   "source": [
    "teY"
   ]
  },
  {
   "cell_type": "code",
   "execution_count": 191,
   "metadata": {
    "collapsed": false
   },
   "outputs": [
    {
     "data": {
      "text/plain": [
       "array([[ 0.,  0.,  0., ...,  0.,  0.,  1.],\n",
       "       [ 1.,  0.,  0., ...,  0.,  0.,  0.],\n",
       "       [ 0.,  0.,  0., ...,  0.,  0.,  1.],\n",
       "       ..., \n",
       "       [ 0.,  0.,  0., ...,  1.,  0.,  0.],\n",
       "       [ 0.,  0.,  0., ...,  0.,  0.,  0.],\n",
       "       [ 0.,  0.,  0., ...,  0.,  1.,  0.]])"
      ]
     },
     "execution_count": 191,
     "metadata": {},
     "output_type": "execute_result"
    }
   ],
   "source": [
    "y_pred"
   ]
  },
  {
   "cell_type": "code",
   "execution_count": 192,
   "metadata": {
    "collapsed": false
   },
   "outputs": [
    {
     "name": "stdout",
     "output_type": "stream",
     "text": [
      "0.874640747741\n"
     ]
    }
   ],
   "source": [
    "print(metrics.f1_score(teY, y_pred))"
   ]
  },
  {
   "cell_type": "code",
   "execution_count": null,
   "metadata": {
    "collapsed": true
   },
   "outputs": [],
   "source": []
  },
  {
   "cell_type": "code",
   "execution_count": null,
   "metadata": {
    "collapsed": true
   },
   "outputs": [],
   "source": []
  }
 ],
 "metadata": {
  "kernelspec": {
   "display_name": "Python 2",
   "language": "python",
   "name": "python2"
  },
  "language_info": {
   "codemirror_mode": {
    "name": "ipython",
    "version": 2
   },
   "file_extension": ".py",
   "mimetype": "text/x-python",
   "name": "python",
   "nbconvert_exporter": "python",
   "pygments_lexer": "ipython2",
   "version": "2.7.9"
  }
 },
 "nbformat": 4,
 "nbformat_minor": 0
}
